{
  "nbformat": 4,
  "nbformat_minor": 0,
  "metadata": {
    "colab": {
      "provenance": [],
      "authorship_tag": "ABX9TyOCbRPF9iV6h6c8FiThAmio",
      "include_colab_link": true
    },
    "kernelspec": {
      "name": "python3",
      "display_name": "Python 3"
    },
    "language_info": {
      "name": "python"
    }
  },
  "cells": [
    {
      "cell_type": "markdown",
      "metadata": {
        "id": "view-in-github",
        "colab_type": "text"
      },
      "source": [
        "<a href=\"https://colab.research.google.com/github/Yashingle1307/Python-basics/blob/main/video2.ipynb\" target=\"_parent\"><img src=\"https://colab.research.google.com/assets/colab-badge.svg\" alt=\"Open In Colab\"/></a>"
      ]
    },
    {
      "cell_type": "markdown",
      "source": [
        "String  \n",
        "string is data type that stores a sequence of character\n"
      ],
      "metadata": {
        "id": "ZIEFmwD9S2KO"
      }
    },
    {
      "cell_type": "code",
      "execution_count": 1,
      "metadata": {
        "colab": {
          "base_uri": "https://localhost:8080/"
        },
        "id": "wAi5MPu6OYtA",
        "outputId": "9b99eab9-f074-4a89-d531-0347f41c4bf1"
      },
      "outputs": [
        {
          "output_type": "stream",
          "name": "stdout",
          "text": [
            "Yash\n"
          ]
        }
      ],
      "source": [
        "str1='Yash'\n",
        "print(str1)"
      ]
    },
    {
      "cell_type": "markdown",
      "source": [
        "Length of string"
      ],
      "metadata": {
        "id": "UjpudeLCUAtH"
      }
    },
    {
      "cell_type": "code",
      "source": [
        "#\n",
        "\n",
        "str1='GHRCEM,Pune.\\nPin-412207 '\n",
        "print(str1)\n",
        "print(len(str1))\n",
        "\n"
      ],
      "metadata": {
        "colab": {
          "base_uri": "https://localhost:8080/"
        },
        "id": "HzGbhbuZTPtV",
        "outputId": "22b48f86-ac7c-4b19-cbc8-e80f5f02ccb3"
      },
      "execution_count": 4,
      "outputs": [
        {
          "output_type": "stream",
          "name": "stdout",
          "text": [
            "GHRCEM,Pune.\n",
            "Pin-412207 \n",
            "24\n"
          ]
        }
      ]
    },
    {
      "cell_type": "markdown",
      "source": [
        "String concatenation"
      ],
      "metadata": {
        "id": "GPWhHa57Ucil"
      }
    },
    {
      "cell_type": "code",
      "source": [
        "str1=\"Yash\"\n",
        "str2=\"Ingle\"\n",
        "\n",
        "print(str1+\" \"+str2)"
      ],
      "metadata": {
        "colab": {
          "base_uri": "https://localhost:8080/"
        },
        "id": "rFEOLFn2UDV2",
        "outputId": "164bb522-7ffb-45c4-dbba-6b2a81e7bd0b"
      },
      "execution_count": 10,
      "outputs": [
        {
          "output_type": "stream",
          "name": "stdout",
          "text": [
            "Yash Ingle\n"
          ]
        }
      ]
    },
    {
      "cell_type": "code",
      "source": [
        "print(len(str1+str2))"
      ],
      "metadata": {
        "colab": {
          "base_uri": "https://localhost:8080/"
        },
        "id": "SgWiGbDQUgUX",
        "outputId": "093a2cf9-cd71-4510-8b99-f7dbccc32b9c"
      },
      "execution_count": 9,
      "outputs": [
        {
          "output_type": "stream",
          "name": "stdout",
          "text": [
            "9\n"
          ]
        }
      ]
    },
    {
      "cell_type": "code",
      "source": [
        "str1='How are you?'\n",
        "print(str1[0])"
      ],
      "metadata": {
        "colab": {
          "base_uri": "https://localhost:8080/"
        },
        "id": "xxNI7hUbV9G0",
        "outputId": "64b1845c-b8d9-48a6-afa8-34aeabd462d1"
      },
      "execution_count": 15,
      "outputs": [
        {
          "output_type": "stream",
          "name": "stdout",
          "text": [
            "H\n"
          ]
        }
      ]
    },
    {
      "cell_type": "markdown",
      "source": [
        "Slicing"
      ],
      "metadata": {
        "id": "U8hyg2rMWgAZ"
      }
    },
    {
      "cell_type": "code",
      "source": [
        "str1='GHRCEM'\n",
        "print(str1[0:1])\n",
        "print(str1[:4])\n",
        "print(str1[:-3])"
      ],
      "metadata": {
        "colab": {
          "base_uri": "https://localhost:8080/"
        },
        "id": "8C9vH-O5WWxg",
        "outputId": "310b08c7-4c4c-4c12-e155-4a06084c09bd"
      },
      "execution_count": 40,
      "outputs": [
        {
          "output_type": "stream",
          "name": "stdout",
          "text": [
            "G\n",
            "GHRC\n",
            "GHR\n"
          ]
        }
      ]
    },
    {
      "cell_type": "code",
      "source": [
        "str1='yashsanjayingle'\n",
        "\n",
        "print(str1.endswith('ingle'))\n",
        "print(str1.capitalize())\n",
        "print(str1.count('a'))\n",
        "print(str1.find('sanjay'))\n",
        "print(str1.replace('yash','om'))"
      ],
      "metadata": {
        "colab": {
          "base_uri": "https://localhost:8080/"
        },
        "id": "_xsbC_YRX8Eh",
        "outputId": "4579f6d0-8439-4d53-e3e8-ffa77cda2173"
      },
      "execution_count": 39,
      "outputs": [
        {
          "output_type": "stream",
          "name": "stdout",
          "text": [
            "True\n",
            "Yashsanjayingle\n",
            "3\n",
            "4\n",
            "omsanjayingle\n"
          ]
        }
      ]
    },
    {
      "cell_type": "code",
      "source": [
        "str1.find('yash')"
      ],
      "metadata": {
        "colab": {
          "base_uri": "https://localhost:8080/"
        },
        "id": "j-64qQ7AZ5k5",
        "outputId": "2c25b003-fd44-4856-9a8c-c7f79d2857eb"
      },
      "execution_count": 41,
      "outputs": [
        {
          "output_type": "execute_result",
          "data": {
            "text/plain": [
              "-1"
            ]
          },
          "metadata": {},
          "execution_count": 41
        }
      ]
    },
    {
      "cell_type": "code",
      "source": [
        "str1.count('om')"
      ],
      "metadata": {
        "colab": {
          "base_uri": "https://localhost:8080/"
        },
        "id": "3tpbfQ3hbct-",
        "outputId": "85b1cf26-7841-4a2e-c933-6c2f5e8f7fad"
      },
      "execution_count": 42,
      "outputs": [
        {
          "output_type": "execute_result",
          "data": {
            "text/plain": [
              "0"
            ]
          },
          "metadata": {},
          "execution_count": 42
        }
      ]
    },
    {
      "cell_type": "code",
      "source": [
        "name = input(\"Enter your name: \")\n",
        "length = len(name)\n",
        "print(\"Length of name is:\", length)\n"
      ],
      "metadata": {
        "colab": {
          "base_uri": "https://localhost:8080/"
        },
        "id": "Lhr4dMetbpws",
        "outputId": "8d8cce50-b93a-485e-9795-9e4843fa37b2"
      },
      "execution_count": 45,
      "outputs": [
        {
          "output_type": "stream",
          "name": "stdout",
          "text": [
            "Enter your name: om\n",
            "Length of name is: 2\n"
          ]
        }
      ]
    },
    {
      "cell_type": "code",
      "source": [
        "str2='You bought this at $5, but it is actually of $3'\n",
        "str2.count('$')"
      ],
      "metadata": {
        "colab": {
          "base_uri": "https://localhost:8080/"
        },
        "id": "-M7VtoFEdLhD",
        "outputId": "c889cd25-79c9-4077-8100-f32aa1200199"
      },
      "execution_count": 49,
      "outputs": [
        {
          "output_type": "execute_result",
          "data": {
            "text/plain": [
              "2"
            ]
          },
          "metadata": {},
          "execution_count": 49
        }
      ]
    },
    {
      "cell_type": "markdown",
      "source": [
        "Conditional statements"
      ],
      "metadata": {
        "id": "F_-pgS2JlUeB"
      }
    },
    {
      "cell_type": "code",
      "source": [
        "# if-elif-else\n",
        "\n",
        "age=int(input(\"Enter your age: \"))\n",
        "if(age>=18):\n",
        "  print(\"You are elegible\")\n",
        "else:\n",
        "  print(\"You are not elegible\")\n",
        "\n",
        "\n"
      ],
      "metadata": {
        "colab": {
          "base_uri": "https://localhost:8080/"
        },
        "id": "N29vzWkKkZW0",
        "outputId": "ff5042e5-4d01-4b63-b151-94321d2b9bde"
      },
      "execution_count": 52,
      "outputs": [
        {
          "output_type": "stream",
          "name": "stdout",
          "text": [
            "Enter your age: 52\n",
            "You are elegible\n"
          ]
        }
      ]
    },
    {
      "cell_type": "markdown",
      "source": [
        "Traffic"
      ],
      "metadata": {
        "id": "Ks6AGSHlnCnM"
      }
    },
    {
      "cell_type": "code",
      "source": [
        "light='yellow'\n",
        "\n",
        "#indentation spacing instead for curly braces in language like java,c++\n",
        "\n",
        "if(light=='green'):\n",
        "  print(\"Go\")\n",
        "elif(light=='red'):\n",
        "  print(\"Stop\")\n",
        "elif(light=='yellow'):\n",
        "  print(\"Look\")\n",
        "else:\n",
        " print(\"Light is not working!\")\n"
      ],
      "metadata": {
        "colab": {
          "base_uri": "https://localhost:8080/"
        },
        "id": "qfhffLCAmgik",
        "outputId": "bc2e3ae7-88d7-4ff0-ae4b-cd0f783dbbe6"
      },
      "execution_count": 56,
      "outputs": [
        {
          "output_type": "stream",
          "name": "stdout",
          "text": [
            "Look\n"
          ]
        }
      ]
    },
    {
      "cell_type": "code",
      "source": [
        "marks=56\n",
        "\n",
        "if(marks>=90):\n",
        "  print(\"Grade A+\")\n",
        "elif(marks<90 and marks>=70):\n",
        "  print(\"Grade A \")\n",
        "elif(marks<70 and marks>=50):\n",
        "  print(\"Grade B\")\n",
        "elif(marks<50 and marks>=30):\n",
        "  print(\"Grade C\")\n",
        "else:\n",
        "  print(\"Fail\")\n"
      ],
      "metadata": {
        "colab": {
          "base_uri": "https://localhost:8080/"
        },
        "id": "n0Wv6DUvnF-e",
        "outputId": "c71b15ad-bc82-4d09-c290-4042906cc306"
      },
      "execution_count": 66,
      "outputs": [
        {
          "output_type": "stream",
          "name": "stdout",
          "text": [
            "Grade B\n"
          ]
        }
      ]
    },
    {
      "cell_type": "code",
      "source": [
        "#Nested if\n",
        "\n",
        "age=int(input(\"Enter your age : \"))\n",
        "\n",
        "if(age>=18):\n",
        "  if(age>=80):\n",
        "    print(\"Cannot drive\")\n",
        "  else:\n",
        "    print('Can drive')\n",
        "else:\n",
        "  print(\"Cannot drive\")"
      ],
      "metadata": {
        "colab": {
          "base_uri": "https://localhost:8080/"
        },
        "id": "nAvLSDRapkSG",
        "outputId": "3c586d1d-415d-4d06-e97a-87646d9e2ac1"
      },
      "execution_count": 69,
      "outputs": [
        {
          "output_type": "stream",
          "name": "stdout",
          "text": [
            "Enter your age : 90\n",
            "Cannot drive\n"
          ]
        }
      ]
    },
    {
      "cell_type": "code",
      "source": [
        "num=10\n",
        "\n",
        "if(age%2!=0):\n",
        "  print(\"Number is odd\")\n",
        "else:\n",
        "  print(\"Number is even\")"
      ],
      "metadata": {
        "colab": {
          "base_uri": "https://localhost:8080/"
        },
        "id": "Rbjeb7mcqgLt",
        "outputId": "4591d2eb-0688-4890-ae67-439ca0a63e3e"
      },
      "execution_count": 70,
      "outputs": [
        {
          "output_type": "stream",
          "name": "stdout",
          "text": [
            "Number is even\n"
          ]
        }
      ]
    },
    {
      "cell_type": "code",
      "source": [
        "num1=int(input(\"Enter a number : \"))\n",
        "num2=int(input(\"Enter a number : \"))\n",
        "num3=int(input(\"Enter a number : \"))\n",
        "\n",
        "\n",
        "if(num1>num2):\n",
        "  if(num1>num3):\n",
        "    print(\"Number is greater : \",num1)\n",
        "  else:\n",
        "    print(\"Number is greater : \",num3)\n",
        "else:\n",
        "  if(num2>num3):\n",
        "    print(\"Number is greater : \",num2)\n",
        "  else:\n",
        "    print(\"Number is greater : \",num3)\n"
      ],
      "metadata": {
        "colab": {
          "base_uri": "https://localhost:8080/"
        },
        "id": "1n6YkZlAqtdG",
        "outputId": "12c3f388-5ea4-49d9-a646-f62219bec716"
      },
      "execution_count": 72,
      "outputs": [
        {
          "output_type": "stream",
          "name": "stdout",
          "text": [
            "Enter a number : 10\n",
            "Enter a number : 20\n",
            "Enter a number : 30\n",
            "Number is greater :  30\n"
          ]
        }
      ]
    },
    {
      "cell_type": "code",
      "source": [
        "num=21\n",
        "\n",
        "if(num%7!=0):\n",
        "  print(\"Number is not multiple of 7\")\n",
        "else:\n",
        "  print(\"Number is multiple of 7\")"
      ],
      "metadata": {
        "colab": {
          "base_uri": "https://localhost:8080/"
        },
        "id": "LZy84pnGrlFw",
        "outputId": "927383d4-f4b9-4ccc-d283-31fd30943d81"
      },
      "execution_count": 75,
      "outputs": [
        {
          "output_type": "stream",
          "name": "stdout",
          "text": [
            "Number is multiple of 7\n"
          ]
        }
      ]
    }
  ]
}