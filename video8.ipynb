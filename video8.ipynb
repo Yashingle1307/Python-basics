{
  "nbformat": 4,
  "nbformat_minor": 0,
  "metadata": {
    "colab": {
      "provenance": [],
      "authorship_tag": "ABX9TyOeyzkBg1qNm98rZ1468/gJ",
      "include_colab_link": true
    },
    "kernelspec": {
      "name": "python3",
      "display_name": "Python 3"
    },
    "language_info": {
      "name": "python"
    }
  },
  "cells": [
    {
      "cell_type": "markdown",
      "metadata": {
        "id": "view-in-github",
        "colab_type": "text"
      },
      "source": [
        "<a href=\"https://colab.research.google.com/github/Yashingle1307/Python-basics/blob/main/video8.ipynb\" target=\"_parent\"><img src=\"https://colab.research.google.com/assets/colab-badge.svg\" alt=\"Open In Colab\"/></a>"
      ]
    },
    {
      "cell_type": "markdown",
      "source": [
        "OOPS in python"
      ],
      "metadata": {
        "id": "mfS4k2I_VTvx"
      }
    },
    {
      "cell_type": "code",
      "execution_count": 3,
      "metadata": {
        "colab": {
          "base_uri": "https://localhost:8080/"
        },
        "id": "OfjBhyh0UyoP",
        "outputId": "fe469d08-0364-4e69-c8e1-4312edb75e90"
      },
      "outputs": [
        {
          "output_type": "stream",
          "name": "stdout",
          "text": [
            "<__main__.student object at 0x7e65fdd7e410>\n"
          ]
        }
      ],
      "source": [
        "# oops in python\n",
        "# class blueprint for creating objects\n",
        "\n",
        "class student:\n",
        "  name=\"Yash\"\n",
        "  age=20\n",
        "\n",
        "s1=student()\n",
        "\n",
        "print(s1)\n",
        "# print(\"Name : \",s1.name)\n",
        "# print(\"Age : \",s1.age)"
      ]
    },
    {
      "cell_type": "code",
      "source": [
        "# syntax of contructor for class\n",
        "# def __init__(self,name,model,color):"
      ],
      "metadata": {
        "id": "I-jDJQ9wYnJF"
      },
      "execution_count": null,
      "outputs": []
    },
    {
      "cell_type": "code",
      "source": [
        "class car:\n",
        "  def __init__(self,name,model,color):\n",
        "    self.name=name\n",
        "    self.model=model\n",
        "    self.color=color\n",
        "\n",
        "car1=car(\"BMW\",\"X5\",\"blue\")\n",
        "\n",
        "print(car1)\n",
        "print(car1.name)\n",
        "print(car1.model)\n",
        "print(car1.color)"
      ],
      "metadata": {
        "colab": {
          "base_uri": "https://localhost:8080/"
        },
        "id": "8baNrGxdXMCz",
        "outputId": "e42b918e-5e3e-40e7-b6f9-e425502d8a20"
      },
      "execution_count": 7,
      "outputs": [
        {
          "output_type": "stream",
          "name": "stdout",
          "text": [
            "<__main__.car object at 0x7e65eaaf8150>\n",
            "BMW\n",
            "X5\n",
            "blue\n"
          ]
        }
      ]
    },
    {
      "cell_type": "code",
      "source": [
        "car2=car(\"Mercedes\",\"M1\",\"black\")\n",
        "print(car2.name)"
      ],
      "metadata": {
        "colab": {
          "base_uri": "https://localhost:8080/"
        },
        "id": "iD4o8Z7yYlLa",
        "outputId": "bfeaa31f-53ce-403b-c722-a53ce962ab51"
      },
      "execution_count": 9,
      "outputs": [
        {
          "output_type": "stream",
          "name": "stdout",
          "text": [
            "BMW\n",
            "Mercedes\n"
          ]
        }
      ]
    },
    {
      "cell_type": "code",
      "source": [
        "car3=car(\"Maruti\",\"creta\",\"red\")\n",
        "print(car3.name)"
      ],
      "metadata": {
        "colab": {
          "base_uri": "https://localhost:8080/"
        },
        "id": "-3TeOYWNZ6lq",
        "outputId": "6c8f763b-7b2b-455d-b2b0-e6cf66d4bccc"
      },
      "execution_count": 12,
      "outputs": [
        {
          "output_type": "stream",
          "name": "stdout",
          "text": [
            "Maruti\n"
          ]
        }
      ]
    },
    {
      "cell_type": "code",
      "source": [
        "# constructor\n",
        "# 1) default\n",
        "# 2) parameterized\n",
        "\n",
        "class book:\n",
        "\n",
        "  def __init__(self,name=None,author=None):\n",
        "    self.name=name\n",
        "    self.author=author\n",
        "\n",
        "\n",
        "book2=book()\n",
        "book1=book(\"Wings of fire\",\"Dr.kalam\")\n",
        "print(book1.name)\n",
        "print(book2.name)"
      ],
      "metadata": {
        "colab": {
          "base_uri": "https://localhost:8080/"
        },
        "id": "GKMaif9fatbr",
        "outputId": "7cc6c811-9550-43ca-b748-c766a07d92cf"
      },
      "execution_count": 20,
      "outputs": [
        {
          "output_type": "stream",
          "name": "stdout",
          "text": [
            "Wings of fire\n",
            "None\n"
          ]
        }
      ]
    },
    {
      "cell_type": "markdown",
      "source": [
        "Attribute"
      ],
      "metadata": {
        "id": "ook9wDRpcffH"
      }
    },
    {
      "cell_type": "code",
      "source": [
        "# class\n",
        "# instance\n",
        "# =>\n",
        "# class.attr\n",
        "# object.attr\n",
        "\n",
        "# student\n",
        "# name , age instance attr\n",
        "# college name class attr"
      ],
      "metadata": {
        "id": "dMnTHWYRceoU"
      },
      "execution_count": null,
      "outputs": []
    },
    {
      "cell_type": "code",
      "source": [
        "# precedence of object attr > class attr"
      ],
      "metadata": {
        "id": "vLnBEb_vdWAX"
      },
      "execution_count": null,
      "outputs": []
    },
    {
      "cell_type": "code",
      "source": [
        "# Methods\n",
        "\n",
        "# class\n",
        "# 1) data\n",
        "# 2) methods"
      ],
      "metadata": {
        "id": "sHKh95ZQdu-O"
      },
      "execution_count": null,
      "outputs": []
    },
    {
      "cell_type": "code",
      "source": [
        "class product:\n",
        "  def __init__(self,name,price):\n",
        "    self.name=name\n",
        "    self.price=price\n",
        "\n",
        "  def intro(self):\n",
        "    print(self.name,\" is my name and my price is \",self.price)\n",
        "\n",
        "p1=product(\"bag\",1000)\n",
        "p2=product(\"towel\",200)\n",
        "\n",
        "p1.intro()\n",
        "p2.intro()"
      ],
      "metadata": {
        "colab": {
          "base_uri": "https://localhost:8080/"
        },
        "id": "O8bsX1fTeDpg",
        "outputId": "6445b9e8-e225-4a06-a670-09abe38cd027"
      },
      "execution_count": 25,
      "outputs": [
        {
          "output_type": "stream",
          "name": "stdout",
          "text": [
            "bag  is my name and my price is  1000\n",
            "towel  is my name and my price is  200\n"
          ]
        }
      ]
    },
    {
      "cell_type": "code",
      "source": [
        "class student :\n",
        "  def __init__(self,name,marks):\n",
        "    self.name=name\n",
        "    self.marks=marks\n",
        "\n",
        "  def get_avg(self):\n",
        "      sum=0\n",
        "      for i in self.marks:\n",
        "        sum+=i\n",
        "      print(\"Avg of marks is : \",sum/len(self.marks))\n",
        "\n",
        "\n",
        "stud1=student(\"Yash\",[45,56,67])\n",
        "print(stud1.name)\n",
        "stud1.get_avg()"
      ],
      "metadata": {
        "colab": {
          "base_uri": "https://localhost:8080/"
        },
        "id": "NIj55ncsflgi",
        "outputId": "0d13155f-3de1-4651-9332-e005dd0d4240"
      },
      "execution_count": 39,
      "outputs": [
        {
          "output_type": "stream",
          "name": "stdout",
          "text": [
            "Yash\n",
            "Avg of marks is :  56.0\n"
          ]
        }
      ]
    },
    {
      "cell_type": "code",
      "source": [
        "# static methods\n",
        "# This are the class level methods\n",
        "\n",
        "class student:\n",
        "  @staticmethod\n",
        "  def intro():\n",
        "    print(\"Hello!\")\n",
        "\n",
        "s1=student()\n",
        "s1.intro()\n"
      ],
      "metadata": {
        "colab": {
          "base_uri": "https://localhost:8080/"
        },
        "id": "IdY5eEm8iOqq",
        "outputId": "25cf5353-c525-46e4-b4e0-f1228ab8cc55"
      },
      "execution_count": 43,
      "outputs": [
        {
          "output_type": "stream",
          "name": "stdout",
          "text": [
            "Hello!\n"
          ]
        }
      ]
    },
    {
      "cell_type": "code",
      "source": [
        "s2=student()\n",
        "s2.intro()"
      ],
      "metadata": {
        "colab": {
          "base_uri": "https://localhost:8080/"
        },
        "id": "MFtuQo9OjpPL",
        "outputId": "e674d495-23e2-4c98-fdff-c13e717ee19e"
      },
      "execution_count": 44,
      "outputs": [
        {
          "output_type": "stream",
          "name": "stdout",
          "text": [
            "Hello!\n"
          ]
        }
      ]
    },
    {
      "cell_type": "code",
      "source": [
        "# oops\n",
        "# abstraction => hides unnecessary data\n",
        "\n",
        "class car:\n",
        "  def __init__(self):\n",
        "    self.acc=False\n",
        "    self.brk=False\n",
        "    self.clutch=False\n",
        "\n",
        "  def start(self):\n",
        "    self.acc=True\n",
        "    self.clutch=True\n",
        "    print(\"Started.....\")\n",
        "\n",
        "  def stop(self):\n",
        "    self.acc=False\n",
        "    self.clutch=False\n",
        "    print(\"Stopped.....\")\n",
        "\n",
        "c1=car()\n",
        "c1.start()\n",
        "c1.stop()"
      ],
      "metadata": {
        "colab": {
          "base_uri": "https://localhost:8080/"
        },
        "id": "N32fB37mkAea",
        "outputId": "294f1308-8c62-4824-c2e6-163a0bb71785"
      },
      "execution_count": 48,
      "outputs": [
        {
          "output_type": "stream",
          "name": "stdout",
          "text": [
            "Started.....\n",
            "Stopped.....\n"
          ]
        }
      ]
    },
    {
      "cell_type": "code",
      "source": [
        "# encapsulation =>\n",
        "\n",
        "class Account:\n",
        "\n",
        "  def __init__(self,balance,account_no):\n",
        "     self.balance=balance\n",
        "     self.account_no=account_no\n",
        "\n",
        "  def credit(self,amount):\n",
        "    self.balance=self.balance+amount\n",
        "    print(\"The balance in your account after crediting  : \",amount,\" is amount= \",self.balance)\n",
        "\n",
        "\n",
        "  def debit(self,amount):\n",
        "    if(self.balance>amount):\n",
        "      self.balance=self.balance-amount\n",
        "      print(\"The balance in your account after debiting  : \",amount,\" is amount= \",self.balance)\n",
        "\n",
        "    else:\n",
        "      print(\"Your account has not sufficient balance\")\n",
        "\n",
        "  def checkbalance(self):\n",
        "     print(\"The balance in your account is : \",self.balance)\n",
        "\n",
        "a1=Account(1000,12345)\n",
        "\n",
        "a1.credit(10000)\n",
        "a1.debit(10000)\n",
        "a1.checkbalance()\n"
      ],
      "metadata": {
        "colab": {
          "base_uri": "https://localhost:8080/"
        },
        "id": "JW-vU1xaltLc",
        "outputId": "a351b867-3ec6-4d63-b804-3dcbe0db5504"
      },
      "execution_count": 55,
      "outputs": [
        {
          "output_type": "stream",
          "name": "stdout",
          "text": [
            "The balance in your account after crediting  :  10000  is amount=  11000\n",
            "The balance in your account after debiting  :  10000  is amount=  1000\n",
            "The balance in your account is :  1000\n"
          ]
        }
      ]
    },
    {
      "cell_type": "code",
      "source": [
        "\n",
        "\n"
      ],
      "metadata": {
        "id": "bon5ACr2pe49"
      },
      "execution_count": null,
      "outputs": []
    }
  ]
}