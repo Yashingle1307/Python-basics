{
  "nbformat": 4,
  "nbformat_minor": 0,
  "metadata": {
    "colab": {
      "provenance": [],
      "authorship_tag": "ABX9TyOEJXRIUIfKT2TMznfQuI6I",
      "include_colab_link": true
    },
    "kernelspec": {
      "name": "python3",
      "display_name": "Python 3"
    },
    "language_info": {
      "name": "python"
    }
  },
  "cells": [
    {
      "cell_type": "markdown",
      "metadata": {
        "id": "view-in-github",
        "colab_type": "text"
      },
      "source": [
        "<a href=\"https://colab.research.google.com/github/Yashingle1307/Python-basics/blob/main/video7.ipynb\" target=\"_parent\"><img src=\"https://colab.research.google.com/assets/colab-badge.svg\" alt=\"Open In Colab\"/></a>"
      ]
    },
    {
      "cell_type": "markdown",
      "source": [
        "File I/O in Python"
      ],
      "metadata": {
        "id": "n_LzJq75Sr1r"
      }
    },
    {
      "cell_type": "code",
      "source": [
        "# Python can be used to perform operations on a file."
      ],
      "metadata": {
        "id": "_1L7aB1sSrno"
      },
      "execution_count": null,
      "outputs": []
    },
    {
      "cell_type": "code",
      "source": [
        "# text files .txt .docx .log\n",
        "# binary files .mp4 .mov .png .jpeg"
      ],
      "metadata": {
        "id": "Rn61y6xZS2t_"
      },
      "execution_count": null,
      "outputs": []
    },
    {
      "cell_type": "code",
      "source": [
        "f=open(\"/content/random.txt\",'r')\n",
        "data=f.readline()\n",
        "print(data)\n",
        "print(type(data))\n",
        "f.close()"
      ],
      "metadata": {
        "colab": {
          "base_uri": "https://localhost:8080/"
        },
        "id": "L-5jrsPYTKJc",
        "outputId": "400d7938-0943-4517-b917-522f968d1417"
      },
      "execution_count": null,
      "outputs": [
        {
          "output_type": "stream",
          "name": "stdout",
          "text": [
            "The sun sets quietly behind the hills.\n",
            "\n",
            "<class 'str'>\n"
          ]
        }
      ]
    },
    {
      "cell_type": "code",
      "source": [
        "# Write to the correct file\n",
        "f = open(\"/content/random.txt\", 'w')\n",
        "f.write(\"This is a newline\")\n",
        "f.close()\n",
        "\n",
        "# Read from the same file\n",
        "f = open(\"/content/random.txt\", 'r')\n",
        "print(f.read())\n",
        "f.close()\n"
      ],
      "metadata": {
        "colab": {
          "base_uri": "https://localhost:8080/"
        },
        "id": "yk4fUvV6Wxyi",
        "outputId": "eb2bf6ca-7951-41ba-fe88-988197130d26"
      },
      "execution_count": null,
      "outputs": [
        {
          "output_type": "stream",
          "name": "stdout",
          "text": [
            "This is a newline\n"
          ]
        }
      ]
    },
    {
      "cell_type": "code",
      "source": [
        "# Write to the correct file\n",
        "f = open(\"/content/random.txt\", 'w+')\n",
        "# print(f.read())\n",
        "f.write(\"This is a Yash Ingle!\")\n",
        "f.read()\n",
        "f.close()"
      ],
      "metadata": {
        "id": "nrBMW4tScJnB"
      },
      "execution_count": null,
      "outputs": []
    },
    {
      "cell_type": "code",
      "source": [
        "\n",
        "# Write to the correct file\n",
        "f = open(\"/content/demo.txt\", 'r+')\n",
        "# print(f.read())\n",
        "# f.write(\"This is a Yash Ingle!\")\n",
        "print(f.read())\n",
        "f.close()\n"
      ],
      "metadata": {
        "colab": {
          "base_uri": "https://localhost:8080/"
        },
        "id": "8ptAu8rrcyRR",
        "outputId": "6d98340b-c112-45ff-e4a4-1302ef555573"
      },
      "execution_count": null,
      "outputs": [
        {
          "output_type": "stream",
          "name": "stdout",
          "text": [
            "This is Sanjay Ingle\n"
          ]
        }
      ]
    },
    {
      "cell_type": "code",
      "source": [
        "f=open('/content/some.txt','a')\n",
        "f.write(\"This is Rohit era!\")\n",
        "\n",
        "f=open('/content/some.txt','r')\n",
        "print(f.read())\n",
        "f.close()"
      ],
      "metadata": {
        "colab": {
          "base_uri": "https://localhost:8080/"
        },
        "id": "v-N_WzPLdLpG",
        "outputId": "7cbecdae-1fc9-4b26-c9c3-65dae0591089"
      },
      "execution_count": null,
      "outputs": [
        {
          "output_type": "stream",
          "name": "stdout",
          "text": [
            "This is rohit era!\n"
          ]
        }
      ]
    },
    {
      "cell_type": "code",
      "source": [
        "with open ('demo.txt','a') as f:\n",
        "  f.write(\"This is Om Ingle\")\n",
        "\n",
        "with open ('demo.txt','r') as f:\n",
        "  print(f.read())"
      ],
      "metadata": {
        "id": "3lXgj3IEdzxO",
        "colab": {
          "base_uri": "https://localhost:8080/"
        },
        "outputId": "1c6a3a67-ea7b-4f27-bfab-7d76f35c7e3b"
      },
      "execution_count": null,
      "outputs": [
        {
          "output_type": "stream",
          "name": "stdout",
          "text": [
            "This is Sanjay Ingle\n"
          ]
        }
      ]
    },
    {
      "cell_type": "code",
      "source": [
        "import os\n",
        "os.remove('/content/doc.txt')"
      ],
      "metadata": {
        "id": "8WoCHH188lVy"
      },
      "execution_count": null,
      "outputs": []
    },
    {
      "cell_type": "code",
      "source": [
        "with open('doc.txt','a') as f:\n",
        "  f.write(\"Hi everyone\\nwe are learning i/o \\nusing Java. \\nI like programming in Java.\")\n",
        "\n",
        "# with open('doc.txt','r') as f:\n",
        "#   data=f.read()\n",
        "#   data=data.replace(\"Java\",\"python\")"
      ],
      "metadata": {
        "id": "Ruy4AKdF9wNT"
      },
      "execution_count": 49,
      "outputs": []
    },
    {
      "cell_type": "code",
      "source": [
        "with open('doc.txt', 'w') as f:\n",
        "    f.write(data)"
      ],
      "metadata": {
        "id": "weiXoOA9AnU9"
      },
      "execution_count": null,
      "outputs": []
    },
    {
      "cell_type": "code",
      "source": [
        "with open('doc.txt','r') as f:\n",
        "  data=f.read()\n",
        "  print(data)"
      ],
      "metadata": {
        "colab": {
          "base_uri": "https://localhost:8080/"
        },
        "id": "4Fv7gjcmAsGE",
        "outputId": "8f04cb93-0680-4c2e-a3f3-f6ef9b1997cb"
      },
      "execution_count": null,
      "outputs": [
        {
          "output_type": "stream",
          "name": "stdout",
          "text": [
            "Hi everyone\n",
            "we are learning i/o \n",
            "using python. \n",
            "I like programming in python.\n"
          ]
        }
      ]
    },
    {
      "cell_type": "code",
      "source": [
        "with open('doc.txt','r') as f:\n",
        "  data=f.read()\n",
        "  print(data.find('learning'))"
      ],
      "metadata": {
        "colab": {
          "base_uri": "https://localhost:8080/"
        },
        "id": "iK6DH_apAwMN",
        "outputId": "60bc198e-e81c-4d41-d5e5-d9dcf38b008c"
      },
      "execution_count": 48,
      "outputs": [
        {
          "output_type": "stream",
          "name": "stdout",
          "text": [
            "19\n"
          ]
        }
      ]
    },
    {
      "cell_type": "code",
      "source": [
        "def checkforline():\n",
        "    word =\"learning\"\n",
        "    data = True\n",
        "    line = 1\n",
        "    with open('doc.txt', 'r') as f:\n",
        "        while data:\n",
        "            data = f.readline()\n",
        "            if word in data:\n",
        "                data=False\n",
        "                print(f\"Found on line {line}\")\n",
        "            line += 1\n",
        "    print(\"Nothing\")\n",
        "\n",
        "checkforline()"
      ],
      "metadata": {
        "colab": {
          "base_uri": "https://localhost:8080/"
        },
        "id": "VRb08xmAQUr0",
        "outputId": "8ede9946-b942-4752-aeed-9a31c95b91ad"
      },
      "execution_count": 57,
      "outputs": [
        {
          "output_type": "stream",
          "name": "stdout",
          "text": [
            "Found on line 2\n",
            "Nothing\n"
          ]
        }
      ]
    },
    {
      "cell_type": "code",
      "source": [
        "with open('num.txt','a') as f:\n",
        "  f.write(\"1,2,3,4,5,6,7,8,9\")\n",
        ""
      ],
      "metadata": {
        "id": "h-7rGCfdQW3s"
      },
      "execution_count": 60,
      "outputs": []
    },
    {
      "cell_type": "code",
      "source": [
        "with open('num.txt', 'r') as f:\n",
        "    data = f.read()\n",
        "    numbers = data.split(',')  # Split string into list: ['1', '2', ...]\n",
        "    for num in numbers:\n",
        "        if num.strip().isdigit():  # Just in case there's whitespace\n",
        "            number = int(num)\n",
        "            if number % 2 == 0:\n",
        "                print(number)"
      ],
      "metadata": {
        "id": "GcdaycqQR2_3",
        "outputId": "54880c91-7d06-4793-dba8-89d87de560e7",
        "colab": {
          "base_uri": "https://localhost:8080/"
        }
      },
      "execution_count": 64,
      "outputs": [
        {
          "output_type": "stream",
          "name": "stdout",
          "text": [
            "2\n",
            "4\n",
            "6\n",
            "8\n"
          ]
        }
      ]
    },
    {
      "cell_type": "code",
      "source": [],
      "metadata": {
        "id": "pv35g5hMSlYo"
      },
      "execution_count": null,
      "outputs": []
    }
  ]
}