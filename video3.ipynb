{
  "nbformat": 4,
  "nbformat_minor": 0,
  "metadata": {
    "colab": {
      "provenance": [],
      "authorship_tag": "ABX9TyNC7dXunu4RW2BuapjV9q20",
      "include_colab_link": true
    },
    "kernelspec": {
      "name": "python3",
      "display_name": "Python 3"
    },
    "language_info": {
      "name": "python"
    }
  },
  "cells": [
    {
      "cell_type": "markdown",
      "metadata": {
        "id": "view-in-github",
        "colab_type": "text"
      },
      "source": [
        "<a href=\"https://colab.research.google.com/github/Yashingle1307/Python-basics/blob/main/video3.ipynb\" target=\"_parent\"><img src=\"https://colab.research.google.com/assets/colab-badge.svg\" alt=\"Open In Colab\"/></a>"
      ]
    },
    {
      "cell_type": "markdown",
      "source": [
        "List and Tuple"
      ],
      "metadata": {
        "id": "sy7PFBNxxs9j"
      }
    },
    {
      "cell_type": "markdown",
      "source": [
        "list is similar to array but can store different types of data\n",
        "\n",
        "list is mutable"
      ],
      "metadata": {
        "id": "m9M7Ab0XzSdD"
      }
    },
    {
      "cell_type": "code",
      "execution_count": 2,
      "metadata": {
        "colab": {
          "base_uri": "https://localhost:8080/"
        },
        "id": "-puoY_POxqP9",
        "outputId": "65feb3b0-40ce-48bc-b4f1-835daeabaa90"
      },
      "outputs": [
        {
          "output_type": "stream",
          "name": "stdout",
          "text": [
            "[1, 2, 3, 4, 5]\n"
          ]
        }
      ],
      "source": [
        "marks=[1,2,3,4,5]\n",
        "print(marks)"
      ]
    },
    {
      "cell_type": "code",
      "source": [
        "print(len(marks))"
      ],
      "metadata": {
        "colab": {
          "base_uri": "https://localhost:8080/"
        },
        "id": "3WYD71udyWMf",
        "outputId": "31c123a7-5a0b-4303-f953-b13782ea6eab"
      },
      "execution_count": 3,
      "outputs": [
        {
          "output_type": "stream",
          "name": "stdout",
          "text": [
            "5\n"
          ]
        }
      ]
    },
    {
      "cell_type": "code",
      "source": [
        "student=[59,'Yash','Ingle']\n",
        "print(student)\n",
        "\n",
        "student[1]='Om'\n",
        "\n",
        "print(student)"
      ],
      "metadata": {
        "colab": {
          "base_uri": "https://localhost:8080/"
        },
        "id": "ak0zwbmpzDbX",
        "outputId": "c9b08ad0-1a24-49a2-bed7-154cbe26dc2e"
      },
      "execution_count": 5,
      "outputs": [
        {
          "output_type": "stream",
          "name": "stdout",
          "text": [
            "[59, 'Yash', 'Ingle']\n",
            "[59, 'Om', 'Ingle']\n"
          ]
        }
      ]
    },
    {
      "cell_type": "code",
      "source": [
        "rollno=[51,52,53,54,55,56,57,58,59,60]\n",
        "passed=rollno[:5]\n",
        "print(rollno)\n",
        "print(passed)"
      ],
      "metadata": {
        "colab": {
          "base_uri": "https://localhost:8080/"
        },
        "id": "UAybns_P0Nqf",
        "outputId": "1eb81a20-bce8-4a63-b001-a2a697aac1aa"
      },
      "execution_count": 11,
      "outputs": [
        {
          "output_type": "stream",
          "name": "stdout",
          "text": [
            "[51, 52, 53, 54, 55, 56, 57, 58, 59, 60]\n",
            "[51, 52, 53, 54, 55]\n"
          ]
        }
      ]
    },
    {
      "cell_type": "code",
      "source": [
        "failed=rollno[-5:]\n",
        "print(failed)"
      ],
      "metadata": {
        "colab": {
          "base_uri": "https://localhost:8080/"
        },
        "id": "OIOqSgte1ABq",
        "outputId": "fd5afc11-bebc-419f-b356-d496be4c030a"
      },
      "execution_count": 14,
      "outputs": [
        {
          "output_type": "stream",
          "name": "stdout",
          "text": [
            "[56, 57, 58, 59, 60]\n"
          ]
        }
      ]
    },
    {
      "cell_type": "markdown",
      "source": [
        "List method"
      ],
      "metadata": {
        "id": "7Wj9Niba1K3l"
      }
    },
    {
      "cell_type": "code",
      "source": [
        "list=[1,2,3,4]\n",
        "\n",
        "list.append(5)\n",
        "\n",
        "print(list)\n",
        "\n",
        "list.reverse()\n",
        "\n",
        "print(list)\n",
        "\n",
        "list.insert(0,0)\n",
        "print(list)\n",
        "\n",
        "list.sort()\n",
        "print(list)"
      ],
      "metadata": {
        "colab": {
          "base_uri": "https://localhost:8080/"
        },
        "id": "w89K3yf31IxL",
        "outputId": "375a8550-77a7-4d46-979d-78d6c832a44a"
      },
      "execution_count": 33,
      "outputs": [
        {
          "output_type": "stream",
          "name": "stdout",
          "text": [
            "[1, 2, 3, 4, 5]\n",
            "[5, 4, 3, 2, 1]\n",
            "[0, 5, 4, 3, 2, 1]\n",
            "[0, 1, 2, 3, 4, 5]\n"
          ]
        }
      ]
    },
    {
      "cell_type": "code",
      "source": [
        "list.sort(reverse=True)\n",
        "\n",
        "print(list)"
      ],
      "metadata": {
        "colab": {
          "base_uri": "https://localhost:8080/"
        },
        "id": "YsD-YMk13gDy",
        "outputId": "58b575db-8bf1-4af2-ff91-7d0b3bab59a5"
      },
      "execution_count": 34,
      "outputs": [
        {
          "output_type": "stream",
          "name": "stdout",
          "text": [
            "[5, 4, 3, 2, 1, 0]\n"
          ]
        }
      ]
    },
    {
      "cell_type": "code",
      "source": [
        "list.remove(1)\n",
        "\n",
        "print(list)"
      ],
      "metadata": {
        "colab": {
          "base_uri": "https://localhost:8080/"
        },
        "id": "uNU5XR0L4pR2",
        "outputId": "dc2d85f5-d19a-4eec-f8e2-177ea06a5011"
      },
      "execution_count": 35,
      "outputs": [
        {
          "output_type": "stream",
          "name": "stdout",
          "text": [
            "[5, 4, 3, 2, 0]\n"
          ]
        }
      ]
    },
    {
      "cell_type": "code",
      "source": [
        "list.pop(3) #index\n",
        "\n",
        "print(list)"
      ],
      "metadata": {
        "colab": {
          "base_uri": "https://localhost:8080/"
        },
        "id": "MMqrClFf4sxE",
        "outputId": "4797f00e-7138-4322-fc1a-ea6af16dec8f"
      },
      "execution_count": 36,
      "outputs": [
        {
          "output_type": "stream",
          "name": "stdout",
          "text": [
            "[5, 4, 3, 0]\n"
          ]
        }
      ]
    },
    {
      "cell_type": "code",
      "source": [
        "list1 = [1, 2, 3]\n",
        "list2 = [3, 4, 5, 5, 6]\n",
        "\n",
        "list1.extend(list2)\n",
        "\n",
        "print(list1)\n"
      ],
      "metadata": {
        "colab": {
          "base_uri": "https://localhost:8080/"
        },
        "id": "1rO1G8Lq41X5",
        "outputId": "2b097edc-1072-4a0c-f86b-aa2b446dbf6a"
      },
      "execution_count": 37,
      "outputs": [
        {
          "output_type": "stream",
          "name": "stdout",
          "text": [
            "[1, 2, 3, 3, 4, 5, 5, 6]\n"
          ]
        }
      ]
    },
    {
      "cell_type": "markdown",
      "source": [
        "Tuple"
      ],
      "metadata": {
        "id": "HDcIebSr6mOI"
      }
    },
    {
      "cell_type": "code",
      "source": [
        "marks=(1,2,3,4,5)\n",
        "\n",
        "print(type(marks))\n",
        "\n",
        "print(marks)"
      ],
      "metadata": {
        "colab": {
          "base_uri": "https://localhost:8080/"
        },
        "id": "fkhkERIS6oSw",
        "outputId": "730d3f8a-807b-4682-cd2a-c55702ecc217"
      },
      "execution_count": 38,
      "outputs": [
        {
          "output_type": "stream",
          "name": "stdout",
          "text": [
            "<class 'tuple'>\n",
            "(1, 2, 3, 4, 5)\n"
          ]
        }
      ]
    },
    {
      "cell_type": "code",
      "source": [
        "print(marks[4:])"
      ],
      "metadata": {
        "colab": {
          "base_uri": "https://localhost:8080/"
        },
        "id": "uMX8sOjy7S5L",
        "outputId": "2e213c27-4d04-423b-80bb-cc144c00bf6f"
      },
      "execution_count": 41,
      "outputs": [
        {
          "output_type": "stream",
          "name": "stdout",
          "text": [
            "(5,)\n"
          ]
        }
      ]
    },
    {
      "cell_type": "code",
      "source": [
        "print(marks.index(3))"
      ],
      "metadata": {
        "colab": {
          "base_uri": "https://localhost:8080/"
        },
        "id": "nKAUW9qp70UE",
        "outputId": "ce4428fd-bc56-4876-f6c3-126761d86b6e"
      },
      "execution_count": 43,
      "outputs": [
        {
          "output_type": "stream",
          "name": "stdout",
          "text": [
            "2\n"
          ]
        }
      ]
    },
    {
      "cell_type": "code",
      "source": [
        "#practice questions\n",
        "\n",
        "print('Enter the Name of three favorite movies')\n",
        "\n",
        "movies=[]\n",
        "\n",
        "movies.append(input(\"Enter movie1 : \"))\n",
        "movies.append(input(\"Enter movie3 : \"))\n",
        "movies.append(input(\"Enter movie3 : \"))\n",
        "\n",
        "print(movies)"
      ],
      "metadata": {
        "colab": {
          "base_uri": "https://localhost:8080/"
        },
        "id": "WyJJrHtb8RIR",
        "outputId": "6eaa6a8f-4dfb-4771-d7be-591dcb0b50b4"
      },
      "execution_count": 48,
      "outputs": [
        {
          "output_type": "stream",
          "name": "stdout",
          "text": [
            "Enter the Name of three favorite movies\n",
            "Enter movie1 : Sairat\n",
            "Enter movie3 : Dhoom\n",
            "Enter movie3 : Makhi\n",
            "['Sairat', 'Dhoom', 'Makhi']\n"
          ]
        }
      ]
    },
    {
      "cell_type": "code",
      "source": [
        "#check if list is palindrome\n",
        "\n",
        "list1=[1,2,3,4]\n",
        "\n",
        "\n",
        "if list1 == list1[::-1]:\n",
        "  print(\"List is plaindrome\")\n",
        "else:\n",
        "  print(\"List is not plaindrome\")"
      ],
      "metadata": {
        "colab": {
          "base_uri": "https://localhost:8080/"
        },
        "id": "qkyV38o99Rwq",
        "outputId": "5b938823-9483-430b-d645-227ff6d95c3b"
      },
      "execution_count": 53,
      "outputs": [
        {
          "output_type": "stream",
          "name": "stdout",
          "text": [
            "List is not plaindrome\n"
          ]
        }
      ]
    },
    {
      "cell_type": "code",
      "source": [
        "grade=('A','B','C','D','E','F',\"G\",'A','A','B')\n",
        "\n",
        "cnt=grade.count('A')\n",
        "\n",
        "print(cnt)"
      ],
      "metadata": {
        "colab": {
          "base_uri": "https://localhost:8080/"
        },
        "id": "tj6hDgg0_GaJ",
        "outputId": "3c393405-bb06-4657-ed79-70fa909bb472"
      },
      "execution_count": 57,
      "outputs": [
        {
          "output_type": "stream",
          "name": "stdout",
          "text": [
            "3\n"
          ]
        }
      ]
    },
    {
      "cell_type": "code",
      "source": [
        "grade=['A','B','C','D','E','F',\"G\",'A','A','B']\n",
        "grade.sort()\n",
        "print(grade)"
      ],
      "metadata": {
        "colab": {
          "base_uri": "https://localhost:8080/"
        },
        "id": "rQIOIgrcCuny",
        "outputId": "643c5730-ec62-459a-9e58-deb44c11594d"
      },
      "execution_count": 59,
      "outputs": [
        {
          "output_type": "stream",
          "name": "stdout",
          "text": [
            "['A', 'A', 'A', 'B', 'B', 'C', 'D', 'E', 'F', 'G']\n"
          ]
        }
      ]
    }
  ]
}