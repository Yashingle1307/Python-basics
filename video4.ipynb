{
  "nbformat": 4,
  "nbformat_minor": 0,
  "metadata": {
    "colab": {
      "provenance": [],
      "authorship_tag": "ABX9TyOLyJs+T1LIBOlTcioYmeWJ",
      "include_colab_link": true
    },
    "kernelspec": {
      "name": "python3",
      "display_name": "Python 3"
    },
    "language_info": {
      "name": "python"
    }
  },
  "cells": [
    {
      "cell_type": "markdown",
      "metadata": {
        "id": "view-in-github",
        "colab_type": "text"
      },
      "source": [
        "<a href=\"https://colab.research.google.com/github/Yashingle1307/Python-basics/blob/main/video4.ipynb\" target=\"_parent\"><img src=\"https://colab.research.google.com/assets/colab-badge.svg\" alt=\"Open In Colab\"/></a>"
      ]
    },
    {
      "cell_type": "markdown",
      "source": [
        "Dictionary =>\n",
        "used to store key value pairs"
      ],
      "metadata": {
        "id": "Iq3TjhKTEDsK"
      }
    },
    {
      "cell_type": "code",
      "execution_count": 3,
      "metadata": {
        "colab": {
          "base_uri": "https://localhost:8080/"
        },
        "id": "khmMvhQkD_UT",
        "outputId": "7b62108f-4004-4a94-a41c-e6100da8c8c1"
      },
      "outputs": [
        {
          "output_type": "stream",
          "name": "stdout",
          "text": [
            "{'name': 'Yash', 'cgpa': 9.15, 'marks': [12, 2, 3, 4, 5]}\n"
          ]
        }
      ],
      "source": [
        "dict={\n",
        "    \"name\":\"Yash\",\n",
        "    \"cgpa\":9.15,\n",
        "    \"marks\":[12,2,3,4,5],\n",
        "}\n",
        "print(dict)"
      ]
    },
    {
      "cell_type": "code",
      "source": [
        "student={\n",
        "    \"name\":\"Yash\",\n",
        "    \"lastname\":\"Ingle\",\n",
        "    \"CGPA\":9.15,\n",
        "    \"age\":21,\n",
        "    \"is_adult\":True,\n",
        "    \"marks\":{\n",
        "        \"math\":45,\n",
        "        \"chem\":56,\n",
        "        \"phy\":56,\n",
        "        \"bio\":78,\n",
        "    },\n",
        "}\n",
        "\n",
        "print(type(student))"
      ],
      "metadata": {
        "colab": {
          "base_uri": "https://localhost:8080/"
        },
        "id": "W5Lij5-vcUxU",
        "outputId": "1fc4b69a-fd0f-4b3e-a55e-99954a4d1489"
      },
      "execution_count": 24,
      "outputs": [
        {
          "output_type": "stream",
          "name": "stdout",
          "text": [
            "<class 'dict'>\n"
          ]
        }
      ]
    },
    {
      "cell_type": "code",
      "source": [
        "print(\"Name of student : \",student[\"name\"]+\" \"+student[\"lastname\"])"
      ],
      "metadata": {
        "colab": {
          "base_uri": "https://localhost:8080/"
        },
        "id": "-8J5jG_3dYW0",
        "outputId": "b12d24f7-a1ea-42d5-c816-caa2f4351b9a"
      },
      "execution_count": 25,
      "outputs": [
        {
          "output_type": "stream",
          "name": "stdout",
          "text": [
            "Name of student :  Yash Ingle\n"
          ]
        }
      ]
    },
    {
      "cell_type": "code",
      "source": [
        "student[\"marks\"][\"bio\"]"
      ],
      "metadata": {
        "colab": {
          "base_uri": "https://localhost:8080/"
        },
        "id": "IibbZ-XwezJ5",
        "outputId": "f3c97eb0-afee-4218-e88a-91f1ff219602"
      },
      "execution_count": 26,
      "outputs": [
        {
          "output_type": "execute_result",
          "data": {
            "text/plain": [
              "78"
            ]
          },
          "metadata": {},
          "execution_count": 26
        }
      ]
    },
    {
      "cell_type": "code",
      "source": [
        "student.keys()"
      ],
      "metadata": {
        "colab": {
          "base_uri": "https://localhost:8080/"
        },
        "id": "WRsT5RNdgX30",
        "outputId": "b44176b9-38c4-4653-eae8-762d9744b838"
      },
      "execution_count": 27,
      "outputs": [
        {
          "output_type": "execute_result",
          "data": {
            "text/plain": [
              "dict_keys(['name', 'lastname', 'CGPA', 'age', 'is_adult', 'marks'])"
            ]
          },
          "metadata": {},
          "execution_count": 27
        }
      ]
    },
    {
      "cell_type": "code",
      "source": [
        "student.values()"
      ],
      "metadata": {
        "colab": {
          "base_uri": "https://localhost:8080/"
        },
        "id": "hWurdGG6g2mQ",
        "outputId": "2361d53a-4739-44f6-d4ae-59809f39294d"
      },
      "execution_count": 28,
      "outputs": [
        {
          "output_type": "execute_result",
          "data": {
            "text/plain": [
              "dict_values(['Yash', 'Ingle', 9.15, 21, True, {'math': 45, 'chem': 56, 'phy': 56, 'bio': 78}])"
            ]
          },
          "metadata": {},
          "execution_count": 28
        }
      ]
    },
    {
      "cell_type": "code",
      "source": [
        "print(list(student.items()))"
      ],
      "metadata": {
        "colab": {
          "base_uri": "https://localhost:8080/"
        },
        "id": "dQCkCMLfhaFK",
        "outputId": "2ca6c935-12f1-4e7b-ca9e-9e575ab4a1fb"
      },
      "execution_count": 30,
      "outputs": [
        {
          "output_type": "stream",
          "name": "stdout",
          "text": [
            "[('name', 'Yash'), ('lastname', 'Ingle'), ('CGPA', 9.15), ('age', 21), ('is_adult', True), ('marks', {'math': 45, 'chem': 56, 'phy': 56, 'bio': 78})]\n"
          ]
        }
      ]
    },
    {
      "cell_type": "code",
      "source": [
        "print(student.get(\"name\"))\n",
        "print(student.get(\"firstname\"))\n",
        "# print(student[\"firstname\"]) it gives error so if we use .get(\"name\") it not return error"
      ],
      "metadata": {
        "colab": {
          "base_uri": "https://localhost:8080/"
        },
        "id": "Czh_aX1rhvO_",
        "outputId": "a47ca39f-8131-450b-f066-3401414ac527"
      },
      "execution_count": 37,
      "outputs": [
        {
          "output_type": "stream",
          "name": "stdout",
          "text": [
            "Yash\n",
            "None\n"
          ]
        }
      ]
    },
    {
      "cell_type": "markdown",
      "source": [
        "Set"
      ],
      "metadata": {
        "id": "1jb2_Bh3l8Gb"
      }
    },
    {
      "cell_type": "code",
      "source": [
        "nums={1,2,3}\n",
        "print(type(nums))"
      ],
      "metadata": {
        "colab": {
          "base_uri": "https://localhost:8080/"
        },
        "id": "8fAvxkQPiz3N",
        "outputId": "a30ef107-9517-4726-ac01-765a2256473d"
      },
      "execution_count": 42,
      "outputs": [
        {
          "output_type": "stream",
          "name": "stdout",
          "text": [
            "<class 'set'>\n"
          ]
        }
      ]
    },
    {
      "cell_type": "code",
      "source": [
        "print(nums)"
      ],
      "metadata": {
        "colab": {
          "base_uri": "https://localhost:8080/"
        },
        "id": "xJUopJI9mPIr",
        "outputId": "9b16f85a-63dc-41c6-d86d-e48eb9bdad8f"
      },
      "execution_count": 43,
      "outputs": [
        {
          "output_type": "stream",
          "name": "stdout",
          "text": [
            "{1, 2, 3}\n"
          ]
        }
      ]
    },
    {
      "cell_type": "code",
      "source": [
        "names={\"Yash\",\"Om\",\"Harsh\",\"Mayank\",\"kru\",\"Bhatkar\",\"Nilay\"}\n",
        "print(names)"
      ],
      "metadata": {
        "colab": {
          "base_uri": "https://localhost:8080/"
        },
        "id": "x1P87yVfmWQH",
        "outputId": "51f67d16-10f3-4104-804e-7a0815f49515"
      },
      "execution_count": 45,
      "outputs": [
        {
          "output_type": "stream",
          "name": "stdout",
          "text": [
            "{'Om', 'Bhatkar', 'kru', 'Mayank', 'Harsh', 'Nilay', 'Yash'}\n"
          ]
        }
      ]
    },
    {
      "cell_type": "code",
      "source": [
        "print(len(names))"
      ],
      "metadata": {
        "colab": {
          "base_uri": "https://localhost:8080/"
        },
        "id": "xHU8ApZOmmsG",
        "outputId": "edb50918-535c-4a3f-d775-f95e2400128d"
      },
      "execution_count": 46,
      "outputs": [
        {
          "output_type": "stream",
          "name": "stdout",
          "text": [
            "7\n"
          ]
        }
      ]
    },
    {
      "cell_type": "code",
      "source": [
        "collection =set() #for empty set\n",
        "print(collection)\n",
        "print(type(collection))"
      ],
      "metadata": {
        "colab": {
          "base_uri": "https://localhost:8080/"
        },
        "id": "vQNvFdSamx2Q",
        "outputId": "037bade9-cf81-4b7c-a243-9d165eeb2f3e"
      },
      "execution_count": 48,
      "outputs": [
        {
          "output_type": "stream",
          "name": "stdout",
          "text": [
            "set()\n",
            "<class 'set'>\n"
          ]
        }
      ]
    },
    {
      "cell_type": "code",
      "source": [
        "# set is mutable but its element is immutable\n",
        "# functions\n",
        "\n",
        "collection={\"Yash\",\"Ingle\",\"CSE(AI)\",(1,2,3,3,4)}\n",
        "\n",
        "collection.add(1)\n",
        "print(collection)\n",
        "\n",
        "collection.remove(1)\n",
        "print(collection)\n"
      ],
      "metadata": {
        "colab": {
          "base_uri": "https://localhost:8080/"
        },
        "id": "uPgmGlTjnHfd",
        "outputId": "e8c3decc-d5f7-46f4-ff28-b9ae8378f76f"
      },
      "execution_count": 58,
      "outputs": [
        {
          "output_type": "stream",
          "name": "stdout",
          "text": [
            "{1, (1, 2, 3, 3, 4), 'CSE(AI)', 'Yash', 'Ingle'}\n",
            "{(1, 2, 3, 3, 4), 'CSE(AI)', 'Yash', 'Ingle'}\n"
          ]
        }
      ]
    },
    {
      "cell_type": "code",
      "source": [
        "collection.clear()\n",
        "print(collection)"
      ],
      "metadata": {
        "colab": {
          "base_uri": "https://localhost:8080/"
        },
        "id": "OBxCW7JzoU1Y",
        "outputId": "05b9de60-c425-4494-a4ad-e99e0cebac35"
      },
      "execution_count": 60,
      "outputs": [
        {
          "output_type": "stream",
          "name": "stdout",
          "text": [
            "set()\n"
          ]
        }
      ]
    },
    {
      "cell_type": "code",
      "source": [
        "collection.add(1)\n",
        "collection.pop()"
      ],
      "metadata": {
        "colab": {
          "base_uri": "https://localhost:8080/"
        },
        "id": "YnL7ISQyohmo",
        "outputId": "b97a7eb4-8f8a-49ed-be87-95d4918ae366"
      },
      "execution_count": 63,
      "outputs": [
        {
          "output_type": "execute_result",
          "data": {
            "text/plain": [
              "1"
            ]
          },
          "metadata": {},
          "execution_count": 63
        }
      ]
    },
    {
      "cell_type": "code",
      "source": [
        "# set methods union and intersection\n",
        "set1={1,2,3,4}\n",
        "\n",
        "set2={1,2,3,4,5,6,7,8}\n",
        "\n",
        "print(set1.union(set2))\n",
        "print(set1.intersection(set2))"
      ],
      "metadata": {
        "colab": {
          "base_uri": "https://localhost:8080/"
        },
        "id": "zulWhTiapJNl",
        "outputId": "ef85d7c2-693f-4e8b-aaf3-9043542c103f"
      },
      "execution_count": 66,
      "outputs": [
        {
          "output_type": "stream",
          "name": "stdout",
          "text": [
            "{1, 2, 3, 4, 5, 6, 7, 8}\n",
            "{1, 2, 3, 4}\n"
          ]
        }
      ]
    },
    {
      "cell_type": "code",
      "source": [
        "dict={\n",
        "    \"table\":['a piece of furnitutre','list of facts & figure'],\n",
        "    \"cat\":\"a small animal\",\n",
        "    }"
      ],
      "metadata": {
        "id": "JHoXu6TWphV7"
      },
      "execution_count": 69,
      "outputs": []
    },
    {
      "cell_type": "code",
      "source": [
        "#totoal no of classrooms\n",
        "\n",
        "sub={\"python\",\"java\",\"c++\",\"python\",\"javascript\",\"java\",\"python\",\"java\",\"c++\",\"c\"}\n",
        "\n",
        "print(len(sub))"
      ],
      "metadata": {
        "colab": {
          "base_uri": "https://localhost:8080/"
        },
        "id": "Rkz8NV2GrEji",
        "outputId": "0e15dd1b-cd26-4706-fc44-188d87bd1904"
      },
      "execution_count": 71,
      "outputs": [
        {
          "output_type": "stream",
          "name": "stdout",
          "text": [
            "5\n"
          ]
        }
      ]
    },
    {
      "cell_type": "code",
      "source": [
        "record={}\n",
        "\n",
        "x=int(input(\"Enter a Math marks : \"))\n",
        "record.update({\"Math\":x})\n",
        "\n",
        "y=int(input(\"Enter a Phy marks : \"))\n",
        "record.update({\"Phy\":y})\n",
        "\n",
        "z=int(input(\"Enter a Chem marks : \"))\n",
        "record.update({\"Chem\":z})\n",
        "\n",
        "print(record)"
      ],
      "metadata": {
        "colab": {
          "base_uri": "https://localhost:8080/"
        },
        "id": "f26kcK5Pts-l",
        "outputId": "a30b9895-07ba-42fe-bdc4-c676982593c9"
      },
      "execution_count": 79,
      "outputs": [
        {
          "output_type": "stream",
          "name": "stdout",
          "text": [
            "Enter a Math marks : 45\n",
            "Enter a Phy marks : 45\n",
            "Enter a Chem marks : 45\n",
            "{'Math': 45, 'Phy': 45, 'Chem': 45}\n"
          ]
        }
      ]
    },
    {
      "cell_type": "code",
      "source": [
        "values={\n",
        "    (\"float\",9.0),\n",
        "    (\"int\",9),\n",
        "}"
      ],
      "metadata": {
        "id": "bpy9Cv4Dv0pl"
      },
      "execution_count": 82,
      "outputs": []
    },
    {
      "cell_type": "code",
      "source": [
        "print(values)"
      ],
      "metadata": {
        "colab": {
          "base_uri": "https://localhost:8080/"
        },
        "id": "-xnoIhQvwwwd",
        "outputId": "c51755cc-4bd5-4288-a4fc-97d8b3ef67de"
      },
      "execution_count": 83,
      "outputs": [
        {
          "output_type": "stream",
          "name": "stdout",
          "text": [
            "{('int', 9), ('float', 9.0)}\n"
          ]
        }
      ]
    }
  ]
}