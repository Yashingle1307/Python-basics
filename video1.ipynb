{
  "nbformat": 4,
  "nbformat_minor": 0,
  "metadata": {
    "colab": {
      "provenance": [],
      "authorship_tag": "ABX9TyN8E7kRinmfZdYZA5r+O7ke",
      "include_colab_link": true
    },
    "kernelspec": {
      "name": "python3",
      "display_name": "Python 3"
    },
    "language_info": {
      "name": "python"
    }
  },
  "cells": [
    {
      "cell_type": "markdown",
      "metadata": {
        "id": "view-in-github",
        "colab_type": "text"
      },
      "source": [
        "<a href=\"https://colab.research.google.com/github/Yashingle1307/Python-basics/blob/main/video1.ipynb\" target=\"_parent\"><img src=\"https://colab.research.google.com/assets/colab-badge.svg\" alt=\"Open In Colab\"/></a>"
      ]
    },
    {
      "cell_type": "code",
      "execution_count": null,
      "metadata": {
        "colab": {
          "base_uri": "https://localhost:8080/"
        },
        "id": "9DKVQuJj6-4X",
        "outputId": "167b2cb4-81b7-4285-f4d5-eca1e5ca94b7"
      },
      "outputs": [
        {
          "output_type": "stream",
          "name": "stdout",
          "text": [
            "Yash\n"
          ]
        }
      ],
      "source": [
        "name='Yash'\n",
        "print(name)"
      ]
    },
    {
      "cell_type": "markdown",
      "source": [
        "Variables"
      ],
      "metadata": {
        "id": "MLZ8iD2m8D0l"
      }
    },
    {
      "cell_type": "code",
      "source": [
        "name='Yash'\n",
        "rollno=59\n",
        "dep='AI'\n",
        "\n",
        "print(\"Name: \",name)\n",
        "print(\"Roll No: \",rollno)\n",
        "print(\"Departement: \",dep)"
      ],
      "metadata": {
        "colab": {
          "base_uri": "https://localhost:8080/"
        },
        "id": "X6dc5rDQ7Kfv",
        "outputId": "b8de61ec-db36-49b6-a6f6-aeba6b0ed7c4"
      },
      "execution_count": null,
      "outputs": [
        {
          "output_type": "stream",
          "name": "stdout",
          "text": [
            "Name:  Yash\n",
            "Roll No:  59\n",
            "Departement:  AI\n"
          ]
        }
      ]
    },
    {
      "cell_type": "markdown",
      "source": [
        "Types of varaibles"
      ],
      "metadata": {
        "id": "mSIZg1UC80TN"
      }
    },
    {
      "cell_type": "code",
      "source": [
        "print(type(name))\n",
        "print(type(rollno))\n",
        "print(type(dep))"
      ],
      "metadata": {
        "colab": {
          "base_uri": "https://localhost:8080/"
        },
        "id": "6SaiTS6J8CH9",
        "outputId": "0d254e58-cb98-4432-b6e3-0e1d8c646680"
      },
      "execution_count": null,
      "outputs": [
        {
          "output_type": "stream",
          "name": "stdout",
          "text": [
            "<class 'str'>\n",
            "<class 'int'>\n",
            "<class 'str'>\n"
          ]
        }
      ]
    },
    {
      "cell_type": "markdown",
      "source": [
        "String declaration type"
      ],
      "metadata": {
        "id": "zfTGzXCW9jth"
      }
    },
    {
      "cell_type": "code",
      "source": [
        "name='Yash'\n",
        "name2=\"Yash\"\n",
        "name3='''Yash'''\n",
        "\n",
        "print(type(name))\n",
        "print(type(name2))\n",
        "print(type(name3))"
      ],
      "metadata": {
        "colab": {
          "base_uri": "https://localhost:8080/"
        },
        "id": "Ra65rhsJ830S",
        "outputId": "750261de-9aa4-4376-cf78-4cb9653be567"
      },
      "execution_count": null,
      "outputs": [
        {
          "output_type": "stream",
          "name": "stdout",
          "text": [
            "<class 'str'>\n",
            "<class 'str'>\n",
            "<class 'str'>\n"
          ]
        }
      ]
    },
    {
      "cell_type": "code",
      "source": [
        "aged=False\n",
        "applied=None\n",
        "\n",
        "print(type(aged))\n",
        "print(type(applied))\n"
      ],
      "metadata": {
        "colab": {
          "base_uri": "https://localhost:8080/"
        },
        "id": "5y6Es3xj9nRn",
        "outputId": "a973d142-026e-49d9-d868-badd36da9c80"
      },
      "execution_count": null,
      "outputs": [
        {
          "output_type": "stream",
          "name": "stdout",
          "text": [
            "<class 'bool'>\n",
            "<class 'NoneType'>\n"
          ]
        }
      ]
    },
    {
      "cell_type": "markdown",
      "source": [
        "Sum of two numbers"
      ],
      "metadata": {
        "id": "bBlPcbhz_MwV"
      }
    },
    {
      "cell_type": "code",
      "source": [
        "num1=10\n",
        "num2=20\n",
        "\n",
        "sum=num1+num2\n",
        "print(sum)"
      ],
      "metadata": {
        "colab": {
          "base_uri": "https://localhost:8080/"
        },
        "id": "r3N5DP6s_La_",
        "outputId": "6b70be35-a3b4-44df-ecab-5ed9b6f5fa7a"
      },
      "execution_count": null,
      "outputs": [
        {
          "output_type": "stream",
          "name": "stdout",
          "text": [
            "30\n"
          ]
        }
      ]
    },
    {
      "cell_type": "markdown",
      "source": [
        "comments"
      ],
      "metadata": {
        "id": "D2O9lqYS_ssx"
      }
    },
    {
      "cell_type": "code",
      "source": [
        "# name=\"komal\"\n",
        "\n",
        "\"\"\"comments\n",
        "comments bolck of code which is not execute \"\"\"\n",
        "\n",
        "name='Jayesh'\n",
        "print(name)"
      ],
      "metadata": {
        "colab": {
          "base_uri": "https://localhost:8080/"
        },
        "id": "WMncHGDN_UfL",
        "outputId": "750aef4c-692c-4f09-d823-3d4a0ff66eb6"
      },
      "execution_count": null,
      "outputs": [
        {
          "output_type": "stream",
          "name": "stdout",
          "text": [
            "Jayesh\n"
          ]
        }
      ]
    },
    {
      "cell_type": "markdown",
      "source": [
        "Operators\n",
        "ex logical"
      ],
      "metadata": {
        "id": "hnqX0DBLAUce"
      }
    },
    {
      "cell_type": "code",
      "source": [
        "st1=True\n",
        "st2=True\n",
        "\n",
        "print(st1 and st2)"
      ],
      "metadata": {
        "colab": {
          "base_uri": "https://localhost:8080/"
        },
        "id": "dXyIJlslACjd",
        "outputId": "e60daa97-5574-4e2d-b33c-f8a2f167ffbc"
      },
      "execution_count": null,
      "outputs": [
        {
          "output_type": "stream",
          "name": "stdout",
          "text": [
            "True\n"
          ]
        }
      ]
    },
    {
      "cell_type": "markdown",
      "source": [
        "Arithematic operator"
      ],
      "metadata": {
        "id": "gUkUAklQBTFT"
      }
    },
    {
      "cell_type": "code",
      "source": [
        "a=10\n",
        "b=5\n",
        "\n",
        "print(a+b)\n",
        "print(a-b)\n",
        "print(a*b)\n",
        "print(a/b)"
      ],
      "metadata": {
        "colab": {
          "base_uri": "https://localhost:8080/"
        },
        "id": "izs18KpnBEPO",
        "outputId": "e123c32a-32f9-4f5d-9289-19c866fef06a"
      },
      "execution_count": null,
      "outputs": [
        {
          "output_type": "stream",
          "name": "stdout",
          "text": [
            "15\n",
            "5\n",
            "50\n",
            "2.0\n"
          ]
        }
      ]
    },
    {
      "cell_type": "markdown",
      "source": [
        "Relational operaotor"
      ],
      "metadata": {
        "id": "J9X669ckCKUh"
      }
    },
    {
      "cell_type": "code",
      "source": [
        "a=5\n",
        "print(a==b)"
      ],
      "metadata": {
        "colab": {
          "base_uri": "https://localhost:8080/"
        },
        "id": "DSaWiermBYQt",
        "outputId": "2dd61b90-b781-41b5-90c4-200cc3b37214"
      },
      "execution_count": null,
      "outputs": [
        {
          "output_type": "stream",
          "name": "stdout",
          "text": [
            "True\n"
          ]
        }
      ]
    },
    {
      "cell_type": "markdown",
      "source": [
        "Assignment operator"
      ],
      "metadata": {
        "id": "b_h9PRPECnlX"
      }
    },
    {
      "cell_type": "code",
      "source": [
        "a=10\n",
        "b=1\n",
        "b*=10\n",
        "\n",
        "print(a)\n",
        "print(b)"
      ],
      "metadata": {
        "colab": {
          "base_uri": "https://localhost:8080/"
        },
        "id": "f1p9FCZQCnRH",
        "outputId": "ff48c6d9-bbc1-49e4-e66e-7d9c7bfa9e61"
      },
      "execution_count": null,
      "outputs": [
        {
          "output_type": "stream",
          "name": "stdout",
          "text": [
            "10\n",
            "10\n"
          ]
        }
      ]
    },
    {
      "cell_type": "markdown",
      "source": [
        "Logical operator example"
      ],
      "metadata": {
        "id": "RZP2VTDhDNhV"
      }
    },
    {
      "cell_type": "code",
      "source": [
        "st1=False\n",
        "st2=True\n",
        "\n",
        "print(\"OR operator \",st1 or st2)\n",
        "print(\"AND operator \",st1 and st2)\n",
        "print(\"NOT operator \",not st2)"
      ],
      "metadata": {
        "colab": {
          "base_uri": "https://localhost:8080/"
        },
        "id": "xAFMGFwLC0K1",
        "outputId": "2431d997-053a-4262-b95d-90032cd20eba"
      },
      "execution_count": null,
      "outputs": [
        {
          "output_type": "stream",
          "name": "stdout",
          "text": [
            "OR operator  True\n",
            "AND operator  False\n",
            "NOT operator  False\n"
          ]
        }
      ]
    },
    {
      "cell_type": "markdown",
      "source": [
        "Type conversion"
      ],
      "metadata": {
        "id": "rCcM7Y48D8tb"
      }
    },
    {
      "cell_type": "code",
      "source": [
        "a=1\n",
        "b=1.0\n",
        "\n",
        "sum=a+b\n",
        "\n",
        "print(sum)"
      ],
      "metadata": {
        "colab": {
          "base_uri": "https://localhost:8080/"
        },
        "id": "Ety54E5YDEeG",
        "outputId": "708009f6-5f51-4afc-9cdd-0642d7d8bdce"
      },
      "execution_count": null,
      "outputs": [
        {
          "output_type": "stream",
          "name": "stdout",
          "text": [
            "2.0\n"
          ]
        }
      ]
    },
    {
      "cell_type": "markdown",
      "source": [
        "Type casting"
      ],
      "metadata": {
        "id": "6Jj4oJ5fDSa7"
      }
    },
    {
      "cell_type": "code",
      "source": [
        "a=2\n",
        "b='3'\n",
        "\n",
        "print(a+int(b))"
      ],
      "metadata": {
        "colab": {
          "base_uri": "https://localhost:8080/"
        },
        "id": "PqZpnXq8F4-I",
        "outputId": "2a569c95-6f20-4f30-d433-19048ae29008"
      },
      "execution_count": null,
      "outputs": [
        {
          "output_type": "stream",
          "name": "stdout",
          "text": [
            "5\n"
          ]
        }
      ]
    },
    {
      "cell_type": "markdown",
      "source": [
        "Input in Python"
      ],
      "metadata": {
        "id": "NEQ8BqWQI3Ah"
      }
    },
    {
      "cell_type": "code",
      "source": [
        "a=int(input(\"Enter a number : \"))\n",
        "print(\"You Entered : \",a)"
      ],
      "metadata": {
        "colab": {
          "base_uri": "https://localhost:8080/"
        },
        "id": "tDWSw5zfH32-",
        "outputId": "5f419938-3de3-4327-fbe7-3f5c1674859c"
      },
      "execution_count": null,
      "outputs": [
        {
          "output_type": "stream",
          "name": "stdout",
          "text": [
            "Enter a number : 12\n",
            "You Entered :  12\n"
          ]
        }
      ]
    },
    {
      "cell_type": "markdown",
      "source": [],
      "metadata": {
        "id": "d03iN2pTI5og"
      }
    },
    {
      "cell_type": "code",
      "source": [
        "print(type(a))"
      ],
      "metadata": {
        "colab": {
          "base_uri": "https://localhost:8080/"
        },
        "id": "Lpc3r7BxI2iO",
        "outputId": "b8a10822-ad0a-424d-a491-60a4940c2af5"
      },
      "execution_count": null,
      "outputs": [
        {
          "output_type": "stream",
          "name": "stdout",
          "text": [
            "<class 'int'>\n"
          ]
        }
      ]
    },
    {
      "cell_type": "code",
      "source": [
        "num1=int(input(\"Enter a number : \"))\n",
        "num2=int(input(\"Enter a number : \"))\n",
        "sum=num1+num2\n",
        "print(\"The sum of two numbers is = \",sum)"
      ],
      "metadata": {
        "colab": {
          "base_uri": "https://localhost:8080/"
        },
        "id": "SncqRXN2JdhW",
        "outputId": "3ee35ad3-3dce-4729-99db-fb1d0fbf4442"
      },
      "execution_count": null,
      "outputs": [
        {
          "output_type": "stream",
          "name": "stdout",
          "text": [
            "Enter a number : 20\n",
            "Enter a number : 20\n",
            "The sum of two numbers is =  40\n"
          ]
        }
      ]
    },
    {
      "cell_type": "markdown",
      "source": [
        "Area of rectangle"
      ],
      "metadata": {
        "id": "1AVUYL2WKeBC"
      }
    },
    {
      "cell_type": "code",
      "source": [
        "length=int(input(\"Enter a length of rectangle \"))\n",
        "breadth=int(input(\"Enter a breadth of rectangle \"))\n",
        "area=length*breadth\n",
        "print(\"The area of rectangle is : \",area)"
      ],
      "metadata": {
        "colab": {
          "base_uri": "https://localhost:8080/"
        },
        "id": "srxoo52RKLC5",
        "outputId": "2304afa1-316e-4c37-e691-380b25656da4"
      },
      "execution_count": null,
      "outputs": [
        {
          "output_type": "stream",
          "name": "stdout",
          "text": [
            "Enter a length of rectangle 10\n",
            "Enter a breadth of rectangle 20\n",
            "The area of rectangle is :  200\n"
          ]
        }
      ]
    },
    {
      "cell_type": "markdown",
      "source": [
        "Area of Square"
      ],
      "metadata": {
        "id": "4PeQq3v8K-e-"
      }
    },
    {
      "cell_type": "code",
      "source": [
        "side=int(input(\"Enter a side od square : \"))\n",
        "area=side*side\n",
        "print(\"The area of square is : \",area)"
      ],
      "metadata": {
        "colab": {
          "base_uri": "https://localhost:8080/"
        },
        "id": "8dCJxeeFK8kW",
        "outputId": "8ec242c8-a854-4e26-dce5-d8b74c630a7f"
      },
      "execution_count": null,
      "outputs": [
        {
          "output_type": "stream",
          "name": "stdout",
          "text": [
            "Enter a side od square : 5\n",
            "The area of square is :  25\n"
          ]
        }
      ]
    },
    {
      "cell_type": "markdown",
      "source": [
        "Area of traingle"
      ],
      "metadata": {
        "id": "B6NGWivMLv2q"
      }
    },
    {
      "cell_type": "code",
      "source": [
        "height=int(input(\"Enter a height of traingle \"))\n",
        "base=int(input(\"Enter a base of traingle \"))\n",
        "area=height*base*0.5\n",
        "print(\"The area of trainge is : \",area)"
      ],
      "metadata": {
        "colab": {
          "base_uri": "https://localhost:8080/"
        },
        "id": "vcYTzU8ILvBr",
        "outputId": "5564e991-9a3b-4cb6-f4f4-775790db9a34"
      },
      "execution_count": null,
      "outputs": [
        {
          "output_type": "stream",
          "name": "stdout",
          "text": [
            "Enter a height of traingle 10\n",
            "Enter a base of traingle 30\n",
            "The area of trainge is :  150.0\n"
          ]
        }
      ]
    },
    {
      "cell_type": "markdown",
      "source": [
        "Swap two numbers and find average"
      ],
      "metadata": {
        "id": "iG04MdAYMHLD"
      }
    },
    {
      "cell_type": "code",
      "source": [
        "num1=float(input(\"Enter a number1 : \"))\n",
        "num2=float(input(\"Enter a number2 : \"))\n",
        "avg=num1+num2/2;\n",
        "\n",
        "temp=num1\n",
        "num1=num2\n",
        "num2=temp\n",
        "\n",
        "print(\"The value of number1 is : \",num1)\n",
        "print(\"The value of number2 is : \",num2)\n",
        "\n",
        "print(\"Average of numbers is\",avg)\n"
      ],
      "metadata": {
        "colab": {
          "base_uri": "https://localhost:8080/"
        },
        "id": "x299Q4hCMG0l",
        "outputId": "091aee6f-5ca9-41fd-9bec-90f1ca34c298"
      },
      "execution_count": null,
      "outputs": [
        {
          "output_type": "stream",
          "name": "stdout",
          "text": [
            "Enter a number1 : 10\n",
            "Enter a number2 : 20\n",
            "The value of number1 is :  20.0\n",
            "The value of number2 is :  10.0\n",
            "Average of numbers is 20.0\n"
          ]
        }
      ]
    },
    {
      "cell_type": "markdown",
      "source": [
        "Take two number and print if num1>num2"
      ],
      "metadata": {
        "id": "lUKKsfX5NVb2"
      }
    },
    {
      "cell_type": "code",
      "source": [
        "num1=float(input(\"Enter a number1 : \"))\n",
        "num2=float(input(\"Enter a number2 : \"))\n",
        "\n",
        "print(num1>num2)"
      ],
      "metadata": {
        "colab": {
          "base_uri": "https://localhost:8080/"
        },
        "id": "EkzTwFR4M7nQ",
        "outputId": "be9cb73d-89fc-44fe-ca8f-98d291008c68"
      },
      "execution_count": null,
      "outputs": [
        {
          "output_type": "stream",
          "name": "stdout",
          "text": [
            "Enter a number1 : 10\n",
            "Enter a number2 : 4\n",
            "True\n"
          ]
        }
      ]
    }
  ]
}