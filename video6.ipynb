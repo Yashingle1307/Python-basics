{
  "nbformat": 4,
  "nbformat_minor": 0,
  "metadata": {
    "colab": {
      "provenance": [],
      "authorship_tag": "ABX9TyMu89tfSDm7l9hZEF088mKG",
      "include_colab_link": true
    },
    "kernelspec": {
      "name": "python3",
      "display_name": "Python 3"
    },
    "language_info": {
      "name": "python"
    }
  },
  "cells": [
    {
      "cell_type": "markdown",
      "metadata": {
        "id": "view-in-github",
        "colab_type": "text"
      },
      "source": [
        "<a href=\"https://colab.research.google.com/github/Yashingle1307/Python-basics/blob/main/video6.ipynb\" target=\"_parent\"><img src=\"https://colab.research.google.com/assets/colab-badge.svg\" alt=\"Open In Colab\"/></a>"
      ]
    },
    {
      "cell_type": "markdown",
      "source": [
        "Function in Python"
      ],
      "metadata": {
        "id": "dOvmUEqGkhMz"
      }
    },
    {
      "cell_type": "code",
      "execution_count": null,
      "metadata": {
        "colab": {
          "base_uri": "https://localhost:8080/"
        },
        "id": "neX7GNxQjd-4",
        "outputId": "c0c88561-f6ca-4fa2-9189-30de8f82bc77"
      },
      "outputs": [
        {
          "output_type": "stream",
          "name": "stdout",
          "text": [
            "3\n"
          ]
        }
      ],
      "source": [
        "def sum(a,b):\n",
        "  return a+b;\n",
        "\n",
        "print(sum(1,2))"
      ]
    },
    {
      "cell_type": "code",
      "source": [
        "def mul(a,b):\n",
        "  print(a*b)\n",
        "mul(2,3)\n",
        "mul(2,6)\n",
        "mul(10,20)"
      ],
      "metadata": {
        "colab": {
          "base_uri": "https://localhost:8080/"
        },
        "id": "nHzLaTkfAfnd",
        "outputId": "111965c3-0360-4e5c-e0dc-57723c80fee3"
      },
      "execution_count": null,
      "outputs": [
        {
          "output_type": "stream",
          "name": "stdout",
          "text": [
            "6\n",
            "12\n",
            "200\n"
          ]
        }
      ]
    },
    {
      "cell_type": "code",
      "source": [
        "def avg(a,b,c):\n",
        "  return (a+b+c)/3\n",
        "\n",
        "print(avg(10,20,30))"
      ],
      "metadata": {
        "colab": {
          "base_uri": "https://localhost:8080/"
        },
        "id": "2vYikcjhAnl6",
        "outputId": "f8c22ebf-f8fa-41fd-dca2-926e5ab1d379"
      },
      "execution_count": null,
      "outputs": [
        {
          "output_type": "stream",
          "name": "stdout",
          "text": [
            "20.0\n"
          ]
        }
      ]
    },
    {
      "cell_type": "markdown",
      "source": [
        "Built-in  function"
      ],
      "metadata": {
        "id": "gXn1z7ssEApy"
      }
    },
    {
      "cell_type": "code",
      "source": [
        "str='Yash'\n",
        "print(len(str))"
      ],
      "metadata": {
        "colab": {
          "base_uri": "https://localhost:8080/"
        },
        "id": "s01wIqPxC9L_",
        "outputId": "67c20b35-8c48-40b9-f550-dbcfce4a3678"
      },
      "execution_count": null,
      "outputs": [
        {
          "output_type": "stream",
          "name": "stdout",
          "text": [
            "4\n"
          ]
        }
      ]
    },
    {
      "cell_type": "code",
      "source": [
        "def area(l=10,b=10):\n",
        "  return l*b\n",
        "\n",
        "print(area(10,20))\n",
        "print(area())\n",
        "\n",
        "print(area(12))"
      ],
      "metadata": {
        "colab": {
          "base_uri": "https://localhost:8080/"
        },
        "id": "SFDQvEsDD-bN",
        "outputId": "5c4fe9b0-cd15-4d6f-c46c-088ddb2ee31a"
      },
      "execution_count": null,
      "outputs": [
        {
          "output_type": "stream",
          "name": "stdout",
          "text": [
            "200\n",
            "100\n",
            "120\n"
          ]
        }
      ]
    },
    {
      "cell_type": "code",
      "source": [
        "list2=[1,2,3,4,5]\n",
        "\n",
        "def findlen(list):\n",
        "  return len(list)\n",
        "\n",
        "print(findlen(list2))"
      ],
      "metadata": {
        "colab": {
          "base_uri": "https://localhost:8080/"
        },
        "id": "TcFsY5CrFMSU",
        "outputId": "889e9c55-1b4a-49b3-a2a3-4d9fd54144f9"
      },
      "execution_count": null,
      "outputs": [
        {
          "output_type": "stream",
          "name": "stdout",
          "text": [
            "5\n"
          ]
        }
      ]
    },
    {
      "cell_type": "code",
      "source": [
        "list2=[1,2,3,4,5]\n",
        "\n",
        "def listprint(list):\n",
        "  for ele in list:\n",
        "    print(ele, end=\" \")\n",
        "\n",
        "listprint(list2)"
      ],
      "metadata": {
        "colab": {
          "base_uri": "https://localhost:8080/"
        },
        "id": "WeOzSt0rFoMd",
        "outputId": "595f3aa4-db29-4186-ec73-d5a5133d9e02"
      },
      "execution_count": null,
      "outputs": [
        {
          "output_type": "stream",
          "name": "stdout",
          "text": [
            "1 2 3 4 5 "
          ]
        }
      ]
    },
    {
      "cell_type": "code",
      "source": [
        "n=int(input(\"Enter the number : \"))\n",
        "\n",
        "def fact(n):\n",
        "  prod=1\n",
        "  for i in range(1,n+1):\n",
        "    prod*=i\n",
        "  print(\"Factorial of \",n,\" is \",prod)\n",
        "\n",
        "fact(n)"
      ],
      "metadata": {
        "colab": {
          "base_uri": "https://localhost:8080/"
        },
        "id": "Nd9DRGTcGWx5",
        "outputId": "2608b556-4198-46e6-ac06-45c23ce37d42"
      },
      "execution_count": null,
      "outputs": [
        {
          "output_type": "stream",
          "name": "stdout",
          "text": [
            "Enter the number : 5\n",
            "Factorial of  5  is  120\n"
          ]
        }
      ]
    },
    {
      "cell_type": "code",
      "source": [
        "rupee=int(input(\"Enter amount in Rupee to convert into $ : \"))\n",
        "\n",
        "def convt(rupee):\n",
        "  return rupee/75\n",
        "\n",
        "print(\"Amount in $ : \",convt(rupee))"
      ],
      "metadata": {
        "colab": {
          "base_uri": "https://localhost:8080/"
        },
        "id": "tEQ-Ut63HrZf",
        "outputId": "cc4d1e11-993b-4a87-b27f-dd9a960bf0d8"
      },
      "execution_count": null,
      "outputs": [
        {
          "output_type": "stream",
          "name": "stdout",
          "text": [
            "Enter amount in Rupee to convert into $ : 10000\n",
            "Amount in $ :  133.33333333333334\n"
          ]
        }
      ]
    },
    {
      "cell_type": "markdown",
      "source": [
        "Recursion\n",
        "\n",
        "when function call itself repeatedly"
      ],
      "metadata": {
        "id": "NdpvDPjMJBIV"
      }
    },
    {
      "cell_type": "code",
      "source": [
        "def fact(n):\n",
        "  if(n == 0 or n==1):\n",
        "    return 1\n",
        "  return n*fact(n-1)\n",
        "\n",
        "print(fact(5))"
      ],
      "metadata": {
        "colab": {
          "base_uri": "https://localhost:8080/"
        },
        "id": "qMmY9M1eNiKe",
        "outputId": "b0274399-2f8a-4583-8482-1dc2c7352b4c"
      },
      "execution_count": 1,
      "outputs": [
        {
          "output_type": "stream",
          "name": "stdout",
          "text": [
            "120\n"
          ]
        }
      ]
    },
    {
      "cell_type": "code",
      "source": [
        "n=int(input(\"Enter a number : \"))\n",
        "\n",
        "print(\"Sum of first \",n,\" natural numbers is \",sum(n))\n",
        "\n",
        "def sum(n):\n",
        "  s=0\n",
        "  for i in range(1,n+1):\n",
        "    s+=i;\n",
        "  return s\n"
      ],
      "metadata": {
        "colab": {
          "base_uri": "https://localhost:8080/"
        },
        "id": "qmzM1eDjNtTX",
        "outputId": "4d77a49a-6b02-4f78-cacb-275c116396cb"
      },
      "execution_count": 5,
      "outputs": [
        {
          "output_type": "stream",
          "name": "stdout",
          "text": [
            "Enter a number : 10\n",
            "Sum of first  10  natural numbers is  55\n"
          ]
        }
      ]
    },
    {
      "cell_type": "code",
      "source": [
        "list1=[1,2,3,4,5,6,7,8,9,10]\n",
        "\n",
        "def funprint(list1,i):\n",
        "  if(i==len(list1)):\n",
        "    return\n",
        "  print(list1[i],end=\" \")\n",
        "  funprint(list1,i+1)\n",
        "\n",
        "funprint(list1,0)"
      ],
      "metadata": {
        "colab": {
          "base_uri": "https://localhost:8080/"
        },
        "id": "2TIlMCy-Pn79",
        "outputId": "a5630b39-dd39-474c-8fd0-503dec242b0a"
      },
      "execution_count": 7,
      "outputs": [
        {
          "output_type": "stream",
          "name": "stdout",
          "text": [
            "1 2 3 4 5 6 7 8 9 10 "
          ]
        }
      ]
    },
    {
      "cell_type": "code",
      "source": [
        "print(\"End\")"
      ],
      "metadata": {
        "colab": {
          "base_uri": "https://localhost:8080/"
        },
        "id": "0_grw-U5RT0t",
        "outputId": "3a1020ed-5728-4f61-dd35-e4382c2fedb6"
      },
      "execution_count": 8,
      "outputs": [
        {
          "output_type": "stream",
          "name": "stdout",
          "text": [
            "End\n"
          ]
        }
      ]
    }
  ]
}